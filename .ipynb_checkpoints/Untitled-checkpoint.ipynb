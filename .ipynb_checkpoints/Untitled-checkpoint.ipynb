{
 "cells": [
  {
   "cell_type": "code",
   "execution_count": 86,
   "metadata": {},
   "outputs": [],
   "source": [
    "from pandas import *\n",
    "from SegundoSemestre import R_,K_,A_\n",
    "import math\n",
    "data=Series([64,89,36,49,56,64,59,35,78,43,53,70,57,62,43,68,62,26,64,72,52,51,62,60,71,61,55,59,60,67,57,67,61,67,51,81,53,64,76,44,73,56,62,63,60])"
   ]
  },
  {
   "cell_type": "code",
   "execution_count": 107,
   "metadata": {},
   "outputs": [
    {
     "data": {
      "text/plain": [
       "63"
      ]
     },
     "execution_count": 107,
     "metadata": {},
     "output_type": "execute_result"
    }
   ],
   "source": [
    "rr = R_(data)\n",
    "rr"
   ]
  },
  {
   "cell_type": "code",
   "execution_count": 110,
   "metadata": {},
   "outputs": [
    {
     "data": {
      "text/plain": [
       "8"
      ]
     },
     "execution_count": 110,
     "metadata": {},
     "output_type": "execute_result"
    }
   ],
   "source": [
    "kk=K_(50)\n",
    "kk=8\n",
    "kk"
   ]
  },
  {
   "cell_type": "code",
   "execution_count": 111,
   "metadata": {},
   "outputs": [
    {
     "data": {
      "text/plain": [
       "8.0"
      ]
     },
     "execution_count": 111,
     "metadata": {},
     "output_type": "execute_result"
    }
   ],
   "source": [
    "aa=A_(rr,kk)\n",
    "aa"
   ]
  },
  {
   "cell_type": "code",
   "execution_count": 112,
   "metadata": {},
   "outputs": [
    {
     "data": {
      "text/plain": [
       "0     1\n",
       "1     2\n",
       "2     4\n",
       "3    10\n",
       "4    16\n",
       "5     8\n",
       "6     3\n",
       "7     1\n",
       "Name: Frecuencia, dtype: int64"
      ]
     },
     "execution_count": 112,
     "metadata": {},
     "output_type": "execute_result"
    }
   ],
   "source": [
    "ls=df.groupby(cut(data,list(range(26,91,kk)),right=False)).count()\n",
    "ls.reset_index()[\"Frecuencia\"]"
   ]
  },
  {
   "cell_type": "code",
   "execution_count": 123,
   "metadata": {},
   "outputs": [
    {
     "data": {
      "text/html": [
       "<div>\n",
       "<style scoped>\n",
       "    .dataframe tbody tr th:only-of-type {\n",
       "        vertical-align: middle;\n",
       "    }\n",
       "\n",
       "    .dataframe tbody tr th {\n",
       "        vertical-align: top;\n",
       "    }\n",
       "\n",
       "    .dataframe thead th {\n",
       "        text-align: right;\n",
       "    }\n",
       "</style>\n",
       "<table border=\"1\" class=\"dataframe\">\n",
       "  <thead>\n",
       "    <tr style=\"text-align: right;\">\n",
       "      <th></th>\n",
       "      <th>MarcaClase</th>\n",
       "      <th>Frecuencia</th>\n",
       "      <th>FrecuenciaAcumulada</th>\n",
       "      <th>FrecuenciaRelativa</th>\n",
       "      <th>FrecuenciaRelAcum</th>\n",
       "    </tr>\n",
       "  </thead>\n",
       "  <tbody>\n",
       "    <tr>\n",
       "      <th>[26, 34)</th>\n",
       "      <td>30</td>\n",
       "      <td>1</td>\n",
       "      <td>1</td>\n",
       "      <td>0.02</td>\n",
       "      <td>0.02</td>\n",
       "    </tr>\n",
       "    <tr>\n",
       "      <th>[34, 42)</th>\n",
       "      <td>38</td>\n",
       "      <td>2</td>\n",
       "      <td>3</td>\n",
       "      <td>0.04</td>\n",
       "      <td>0.06</td>\n",
       "    </tr>\n",
       "    <tr>\n",
       "      <th>[42, 50)</th>\n",
       "      <td>46</td>\n",
       "      <td>4</td>\n",
       "      <td>7</td>\n",
       "      <td>0.09</td>\n",
       "      <td>0.15</td>\n",
       "    </tr>\n",
       "    <tr>\n",
       "      <th>[50, 58)</th>\n",
       "      <td>54</td>\n",
       "      <td>10</td>\n",
       "      <td>17</td>\n",
       "      <td>0.22</td>\n",
       "      <td>0.37</td>\n",
       "    </tr>\n",
       "    <tr>\n",
       "      <th>[58, 66)</th>\n",
       "      <td>62</td>\n",
       "      <td>16</td>\n",
       "      <td>33</td>\n",
       "      <td>0.36</td>\n",
       "      <td>0.73</td>\n",
       "    </tr>\n",
       "    <tr>\n",
       "      <th>[66, 74)</th>\n",
       "      <td>70</td>\n",
       "      <td>8</td>\n",
       "      <td>41</td>\n",
       "      <td>0.18</td>\n",
       "      <td>0.91</td>\n",
       "    </tr>\n",
       "    <tr>\n",
       "      <th>[74, 82)</th>\n",
       "      <td>78</td>\n",
       "      <td>3</td>\n",
       "      <td>44</td>\n",
       "      <td>0.07</td>\n",
       "      <td>0.98</td>\n",
       "    </tr>\n",
       "    <tr>\n",
       "      <th>[82, 90)</th>\n",
       "      <td>86</td>\n",
       "      <td>1</td>\n",
       "      <td>45</td>\n",
       "      <td>0.02</td>\n",
       "      <td>1.00</td>\n",
       "    </tr>\n",
       "  </tbody>\n",
       "</table>\n",
       "</div>"
      ],
      "text/plain": [
       "          MarcaClase  Frecuencia  FrecuenciaAcumulada  FrecuenciaRelativa  \\\n",
       "[26, 34)          30           1                    1                0.02   \n",
       "[34, 42)          38           2                    3                0.04   \n",
       "[42, 50)          46           4                    7                0.09   \n",
       "[50, 58)          54          10                   17                0.22   \n",
       "[58, 66)          62          16                   33                0.36   \n",
       "[66, 74)          70           8                   41                0.18   \n",
       "[74, 82)          78           3                   44                0.07   \n",
       "[82, 90)          86           1                   45                0.02   \n",
       "\n",
       "          FrecuenciaRelAcum  \n",
       "[26, 34)               0.02  \n",
       "[34, 42)               0.06  \n",
       "[42, 50)               0.15  \n",
       "[50, 58)               0.37  \n",
       "[58, 66)               0.73  \n",
       "[66, 74)               0.91  \n",
       "[74, 82)               0.98  \n",
       "[82, 90)               1.00  "
      ]
     },
     "execution_count": 123,
     "metadata": {},
     "output_type": "execute_result"
    }
   ],
   "source": [
    "df2 = DataFrame({\"MarcaClase\":list(range(30,87,kk)),\"Frecuencia\":ls[\"Frecuencia\"]})\n",
    "df2[\"FrecuenciaAcumulada\"]=df2[\"Frecuencia\"].cumsum()\n",
    "df2[\"FrecuenciaRelativa\"]=df2[\"Frecuencia\"].div(df2[\"Frecuencia\"].sum()).round(2)\n",
    "df2[\"FrecuenciaRelAcum\"]=df2[\"FrecuenciaRelativa\"].cumsum()\n",
    "df2"
   ]
  },
  {
   "cell_type": "code",
   "execution_count": null,
   "metadata": {},
   "outputs": [],
   "source": []
  },
  {
   "cell_type": "code",
   "execution_count": null,
   "metadata": {},
   "outputs": [],
   "source": []
  }
 ],
 "metadata": {
  "kernelspec": {
   "display_name": "Python 3",
   "language": "python",
   "name": "python3"
  },
  "language_info": {
   "codemirror_mode": {
    "name": "ipython",
    "version": 3
   },
   "file_extension": ".py",
   "mimetype": "text/x-python",
   "name": "python",
   "nbconvert_exporter": "python",
   "pygments_lexer": "ipython3",
   "version": "3.8.5"
  },
  "varInspector": {
   "cols": {
    "lenName": 16,
    "lenType": 16,
    "lenVar": 40
   },
   "kernels_config": {
    "python": {
     "delete_cmd_postfix": "",
     "delete_cmd_prefix": "del ",
     "library": "var_list.py",
     "varRefreshCmd": "print(var_dic_list())"
    },
    "r": {
     "delete_cmd_postfix": ") ",
     "delete_cmd_prefix": "rm(",
     "library": "var_list.r",
     "varRefreshCmd": "cat(var_dic_list()) "
    }
   },
   "types_to_exclude": [
    "module",
    "function",
    "builtin_function_or_method",
    "instance",
    "_Feature"
   ],
   "window_display": false
  }
 },
 "nbformat": 4,
 "nbformat_minor": 4
}
